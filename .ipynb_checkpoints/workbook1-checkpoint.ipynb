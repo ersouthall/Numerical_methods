{
 "cells": [
  {
   "cell_type": "markdown",
   "metadata": {},
   "source": [
    "# MA943 - Numerical Methods"
   ]
  },
  {
   "cell_type": "markdown",
   "metadata": {},
   "source": [
    "## Question 1: Precision of floating point arithmetic\n",
    "\n",
    "Consider the recursion relation\n",
    "\n",
    "$a_{n+1} = 2\\, a_n - \\frac{8}{9}\\, a_{n-1}$\n",
    "\n",
    "with the initial conditions $a_1=1$ and $a_2=\\frac{2}{3}$. \n",
    "\n",
    "1. Calculate the first 80 terms in this sequence using single precision floating point arithmetic (Float32 in Julia). Plot the resulting sequence on a lin-log plot.\n",
    "\n",
    "2. Repeat the calculation using double precision floating point arithmetic (Float64 in Julia) and add the results to to your plot.\n",
    "\n",
    "3. Find the **general** solution of the recursion relation analytically (it should contain two arbitrary constants). Hint: start from the ansatz $a_n = x^n$ and find the the allowed values of $x$.\n",
    "\n",
    "4. Find the solution that satisfies the initial conditions $a_1=1$ and $a_2=\\frac{2}{3}$. \n",
    "\n",
    "5. Find the solution that satisfies the perturbed initial conditions $a_1=1$ and $a_2=\\frac{2}{3}+\\epsilon$. Use the answer to explain your numerical results.\n",
    "\n",
    "6. Julia supports arbitrary precision floating point arithmetic using the BigFloat type (see https://docs.julialang.org/en/latest/manual/integers-and-floating-point-numbers/#Arbitrary-Precision-Arithmetic-1). Try to reproduce the exact solution for the first 80 terms in the sequence using 128 bit precision and show the results on your plot."
   ]
  },
  {
   "cell_type": "code",
   "execution_count": 47,
   "metadata": {},
   "outputs": [
    {
     "name": "stderr",
     "output_type": "stream",
     "text": [
      "WARNING: Method definition recursive_fp(Any) in module Main at /home/emma/numerical-methods/question1.jl:2 overwritten at /home/emma/numerical-methods/question1.jl:2.\n"
     ]
    }
   ],
   "source": [
    "include(\"question1.jl\") \n",
    "setprecision(BigFloat, 128)\n",
    "a_float32 = recursive_fp(Float32);\n",
    "a_float64 = recursive_fp(Float64);\n",
    "a_bigfloat = recursive_fp(BigFloat);"
   ]
  },
  {
   "cell_type": "code",
   "execution_count": 75,
   "metadata": {},
   "outputs": [
    {
     "data": {
      "text/html": [
       "<script src=\"/home/emma/.julia/v0.5/Plots/src/backends/../../deps/plotly-latest.min.js\"></script>    <div id=\"61749dd5-bb8b-42fe-8fb7-ff2bb52786e6\" style=\"width:600px;height:400px;\"></div>\n",
       "    <script>\n",
       "    PLOT = document.getElementById('61749dd5-bb8b-42fe-8fb7-ff2bb52786e6');\n",
       "    Plotly.plot(PLOT, [{\"yaxis\":\"y\",\"showlegend\":true,\"type\":\"scatter\",\"xaxis\":\"x\",\"name\":\"Float 64\",\"marker\":{\"symbol\":\"circle\",\"line\":{\"width\":1,\"color\":\"rgba(0, 0, 0, 0.500)\"},\"size\":8,\"color\":\"rgba(0, 154, 250, 0.500)\"},\"y\":[1.0,0.6666666666666666,0.4444444444444444,0.2962962962962963,0.19753086419753085,0.13168724279835392,0.08779149519890264,0.05852766346593513,0.03901844231062347,0.02601229487374905,0.017341529915832793,0.011561019943888654,0.00770734662925927,0.0051382310861730705,0.0034254873907823453,0.0022836582605219617,0.0015224388403485053,0.0010149592268997114,0.0006766394846007516,0.0004510929897350931,0.0003007286598250737,0.00020048577321895358,0.00013365718214895274,8.91047881032801e-5,5.940319207415777e-5,3.960212805651101e-5,2.6401418713770674e-5,1.7600945821753784e-5,1.1733963897933636e-5,7.822642620975019e-6,5.215095110453474e-6,3.476730113373598e-6,2.31782012856633e-6,1.5452134896894617e-6,1.0301424206532968e-6,6.867617393604057e-7,4.57841327028992e-7,3.0522777462651227e-7,2.0348548078280947e-7,1.3565738411983025e-7,9.043878532160766e-8,6.029322920336621e-8,4.019642700974784e-8,2.6798872505392385e-8,1.786758766878669e-8,1.1913955332780153e-8,7.945610515527693e-9,5.301038513028584e-9,3.5393121233658858e-9,2.3665900129285863e-9,1.5871248050874963e-9,1.0706140431273603e-9,7.304504817325018e-10,5.092440362406835e-10,3.691987553858099e-10,2.8573614522434563e-10,2.43295618994638e-10,2.3260355334541328e-10,2.4894433425114837e-10,2.9112995441748495e-10,3.6097605616728247e-10,4.631699306301339e-10,6.05472255778239e-10,7.992379065519146e-10,1.0602782524120612e-9,1.4101228101113096e-9,1.877776062523009e-9,2.502109627169299e-9,3.3350849765403674e-9,4.446072506708025e-9,5.927625034269057e-9,7.903185618130981e-9,1.0537371205800579e-8,1.4049688528818064e-8,1.873282487470228e-8,2.4977037723788503e-8,3.3302675558952757e-8,4.440353980787129e-8,5.920470134111791e-8,7.893958951968356e-8],\"line\":{\"width\":1,\"dash\":\"solid\",\"color\":\"rgba(0, 154, 250, 1.000)\",\"shape\":\"linear\"},\"mode\":\"lines+markers\",\"colorbar\":{\"title\":\"\"},\"x\":[1,2,3,4,5,6,7,8,9,10,11,12,13,14,15,16,17,18,19,20,21,22,23,24,25,26,27,28,29,30,31,32,33,34,35,36,37,38,39,40,41,42,43,44,45,46,47,48,49,50,51,52,53,54,55,56,57,58,59,60,61,62,63,64,65,66,67,68,69,70,71,72,73,74,75,76,77,78,79,80]},{\"yaxis\":\"y\",\"showlegend\":true,\"type\":\"scatter\",\"xaxis\":\"x\",\"name\":\"Big Float\",\"marker\":{\"symbol\":\"circle\",\"line\":{\"width\":1,\"color\":\"rgba(0, 0, 0, 0.200)\"},\"size\":8,\"color\":\"rgba(227, 111, 71, 0.200)\"},\"y\":[1.0,0.6666666666666666,0.4444444444444444,0.2962962962962963,0.19753086419753085,0.13168724279835392,0.0877914951989026,0.05852766346593507,0.03901844231062338,0.02601229487374892,0.017341529915832612,0.011561019943888409,0.0077073466292589396,0.005138231086172626,0.0034254873907817508,0.002283658260521167,0.0015224388403474447,0.0010149592268982965,0.0006766394845988643,0.0004510929897325762,0.0003007286598217175,0.00020048577321447834,0.00013365718214298556,8.910478809532371e-5,5.9403192063549134e-5,3.960212804236609e-5,2.6401418694910726e-5,1.760094579660715e-5,1.1733963864404767e-5,7.822642576269845e-6,5.2150950508465636e-6,3.476730033897709e-6,2.3178200225984725e-6,1.5452133483989817e-6,1.0301422322659878e-6,6.867614881773252e-7,4.578409921182168e-7,3.052273280788112e-7,2.0348488538587412e-7,1.3565659025724942e-7,9.043772683816628e-8,6.029181789211086e-8,4.019454526140724e-8,2.6796363507604823e-8,1.7864242338403216e-8,1.1909494892268811e-8,7.93966326151254e-9,5.29310884100836e-9,3.528739227338907e-9,2.352492818225938e-9,1.5683285454839587e-9,1.0455523636559724e-9,6.970349091039816e-10,4.646899394026544e-10,3.0979329293510296e-10,2.0652886195673529e-10,1.3768590797115687e-10,9.179060531410458e-11,6.119373687606971e-11,4.0795824584046475e-11,2.7197216389364318e-11,1.8131477592909546e-11,1.2087651728606363e-11,8.058434485737576e-12,5.372289657158384e-12,3.581526438105589e-12,2.387684292070393e-12,1.5917895280469286e-12,1.0611930186979524e-12,7.074620124653016e-13,4.716413416435344e-13,3.1442756109568957e-13,2.0961837406379307e-13,1.3974558270919538e-13,9.316372180613024e-14,6.21091478707535e-14,4.140609858050233e-14,2.760406572033488e-14,1.840271048022325e-14,1.2268473653482161e-14],\"line\":{\"width\":1,\"dash\":\"solid\",\"color\":\"rgba(227, 111, 71, 1.000)\",\"shape\":\"linear\"},\"mode\":\"lines+markers\",\"colorbar\":{\"title\":\"\"},\"x\":[1,2,3,4,5,6,7,8,9,10,11,12,13,14,15,16,17,18,19,20,21,22,23,24,25,26,27,28,29,30,31,32,33,34,35,36,37,38,39,40,41,42,43,44,45,46,47,48,49,50,51,52,53,54,55,56,57,58,59,60,61,62,63,64,65,66,67,68,69,70,71,72,73,74,75,76,77,78,79,80]},{\"yaxis\":\"y\",\"showlegend\":true,\"type\":\"scatter\",\"xaxis\":\"x\",\"name\":\"Float 32\",\"marker\":{\"symbol\":\"circle\",\"line\":{\"width\":1,\"color\":\"rgba(0, 0, 0, 0.200)\"},\"size\":8,\"color\":\"rgba(62, 164, 78, 0.200)\"},\"y\":[1.0,0.6666666865348816,0.444444477558136,0.2962963581085205,0.19753095507621765,0.13168737292289734,0.08779166638851166,0.05852788686752319,0.03901873528957367,0.026012681424617767,0.017342042177915573,0.011561701074242592,0.007708253338932991,0.00513943936675787,0.0034270980395376682,0.002285805530846119,0.001525301719084382,0.0010187763255089521,0.0006817289395257831,0.00045787892304360867,0.0003097765729762614,0.0002125496685039252,0.0001497423800174147,0.00011055171489715576,8.799908391665667e-5,7.772997923893854e-5,7.723854650976136e-5,8.538377733202651e-5,0.00010211106564383954,0.00012832543870899826,0.00016588548896834254,0.0002177039277739823,0.0002879540843423456,0.0003823935694526881,0.0005088279722258449,0.0006777505623176694,0.0009032095549628139,0.0012039742432534695,0.001605095574632287,0.0021399918477982283,0.002853231970220804,0.0038042489904910326,0.005072291940450668,0.006763028912246227,0.009017353877425194,0.01202312670648098,0.016030827537178993,0.021374430507421494,0.028499236330389977,0.037998978048563004,0.05066530406475067,0.06755374372005463,0.0900716632604599,0.12009555101394653,0.1601274013519287,0.21350321173667908,0.28467094898223877,0.37956124544143677,0.5060816407203674,0.6747754812240601,0.8997006416320801,1.1996009349822998,1.5994679927825928,2.1326241493225098,2.843498945236206,3.7913320064544678,5.055109024047852,6.740145206451416,8.986860275268555,11.982481002807617,15.976641654968262,21.302188873291016,28.40291976928711,37.87055969238281,50.49407958984375,67.325439453125,89.76725769042969,119.68968200683594,159.58624267578125,212.78164672851562],\"line\":{\"width\":1,\"dash\":\"solid\",\"color\":\"rgba(62, 164, 78, 1.000)\",\"shape\":\"linear\"},\"mode\":\"lines+markers\",\"colorbar\":{\"title\":\"\"},\"x\":[1,2,3,4,5,6,7,8,9,10,11,12,13,14,15,16,17,18,19,20,21,22,23,24,25,26,27,28,29,30,31,32,33,34,35,36,37,38,39,40,41,42,43,44,45,46,47,48,49,50,51,52,53,54,55,56,57,58,59,60,61,62,63,64,65,66,67,68,69,70,71,72,73,74,75,76,77,78,79,80]}], {\"yaxis\":{\"type\":\"log\",\"titlefont\":{\"size\":15,\"color\":\"rgba(0, 0, 0, 1.000)\",\"family\":\"sans-serif\"},\"title\":\"an\",\"tickfont\":{\"size\":11,\"color\":\"rgba(0, 0, 0, 1.000)\",\"family\":\"sans-serif\"},\"ticks\":\"inside\",\"tickmode\":\"array\",\"showgrid\":true,\"tickvals\":[1.0e-12,1.0e-9,1.0e-6,0.001,1.0],\"domain\":[0.07581474190726165,0.9554352580927385],\"ticktext\":[\"10^-12\",\"10^-9\",\"10^-6\",\"10^-3\",\"10^0\"],\"tickangle\":0,\"zeroline\":false,\"linecolor\":\"rgba(0, 0, 0, 1.000)\",\"tickcolor\":\"rgba(0, 0, 0, 1.000)\",\"anchor\":\"x\"},\"annotations\":[{\"text\":\"Different precision values of sequence as n increases\",\"y\":1.0,\"xref\":\"paper\",\"font\":{\"size\":14,\"color\":\"rgba(0, 0, 0, 1.000)\",\"family\":\"sans-serif\"},\"xanchor\":\"center\",\"x\":0.5571759259259259,\"yref\":\"paper\",\"showarrow\":false,\"yanchor\":\"top\",\"rotation\":-0.0}],\"width\":600,\"plot_bgcolor\":\"rgba(255, 255, 255, 1.000)\",\"showlegend\":true,\"legend\":{\"bgcolor\":\"rgba(255, 255, 255, 1.000)\",\"y\":1.0,\"font\":{\"size\":14,\"color\":\"rgba(0, 0, 0, 1.000)\",\"family\":\"sans-serif\"},\"bordercolor\":\"rgba(0, 0, 0, 1.000)\",\"x\":1.0},\"xaxis\":{\"type\":\"-\",\"titlefont\":{\"size\":15,\"color\":\"rgba(0, 0, 0, 1.000)\",\"family\":\"sans-serif\"},\"title\":\"n\",\"tickfont\":{\"size\":11,\"color\":\"rgba(0, 0, 0, 1.000)\",\"family\":\"sans-serif\"},\"ticks\":\"inside\",\"tickmode\":\"array\",\"showgrid\":true,\"tickvals\":[0.0,20.0,40.0,60.0,80.0],\"domain\":[0.1209135316418781,0.9934383202099738],\"ticktext\":[\"0\",\"20\",\"40\",\"60\",\"80\"],\"tickangle\":0,\"zeroline\":false,\"linecolor\":\"rgba(0, 0, 0, 1.000)\",\"tickcolor\":\"rgba(0, 0, 0, 1.000)\",\"anchor\":\"y\"},\"paper_bgcolor\":\"rgba(255, 255, 255, 1.000)\",\"height\":400,\"margin\":{\"r\":0,\"l\":0,\"b\":20,\"t\":20}});\n",
       "    </script>\n"
      ]
     },
     "execution_count": 75,
     "metadata": {},
     "output_type": "execute_result"
    }
   ],
   "source": [
    "using Plots\n",
    "plotly()\n",
    "N =1:80\n",
    "\n",
    "plot(N, a_float64,yaxis = :log, xaxis = :none, label = \"Float 64\", legendfont = font(10), xlabel = \"n\", \n",
    "    ylabel = \"an\", m =(0.5), title = \"Different precision values of sequence as n increases\", titlefont = font(10))\n",
    "plot!(N, a_bigfloat, yaxis = :log, xaxis = :none, m =(0.2), label = \"Big Float\", legendfont = font(10))\n",
    "plot!(N, a_float32,yaxis = :log, xaxis = :none, label = \"Float 32\", legendfont = font(10) ,m =(0.2) )\n"
   ]
  },
  {
   "cell_type": "markdown",
   "metadata": {},
   "source": [
    "Consider the recursion $a_{n+1} = 2\\, a_n - \\frac{8}{9}\\, a_{n-1}$ then an anzat solution is $a_n = \\lambda^n$. Then we can see that $\\lambda \\neq 0$ otherwise the initial condition $a_1 = 1$ would not hold. \n",
    "\n",
    "Then $\\lambda ^{n+1} = 2 \\lambda^n - \\frac{8}{9} \\lambda^{n-1}$ so $\\lambda^2 = 2 \\lambda- \\frac{8}{9}$ which we can solve the quadratic equation to find that $\\lambda = \\frac{2}{3}$ or $\\lambda = \\frac{4}{3}$. \n",
    "\n",
    "Then the general solution $$\\left( a_n \\right) _{n \\in \\mathbb{N}_{<0}} = A \\left( \\frac{2}{3} \\right)^n + B \\left( \\frac{4}{3} \\right)^n$$ where $A, B \\in \\mathbb{R}$ can be found by evaluating the general solution at the inital conditions $a_1 = 1 \\ \\text{and} \\ a_2 = \\frac{2}{3}$. So $A= \\frac{3}{2} $ and $A = 0$ then $$\\left( a_n \\right) _{n \\in \\mathbb{N}_{<0}} = \\frac{3}{2} \\left( \\frac{2}{3} \\right)^n $$\n",
    "\n",
    "Which goes to zero as $n \\rightarrow \\infty$, this cannot be seen in the numerical results above as we have a turning point where the sequence starts increasing. Instead we let $a_1 = 1$ and $a_2 = \\frac{2}{3} + \\epsilon$ where $\\epsilon$ is loss of significance. Then the solution is now,\n",
    " $$\\left( a_n \\right) _{n \\in \\mathbb{N}_{<0}} = \\frac{6-9 \\epsilon}{4} \\left( \\frac{2}{3} \\right)^n + \\frac{9 \\epsilon}{8} \\left( \\frac{4}{3} \\right)^n$$\n",
    "This takes into account the dynamical instabilities as every operation commits an error of at least $\\epsilon$ then the recursion accumulates errors. Then as $B$ is small, as $n \\rightarrow \\infty$, $a_n$ will exponentially grow towards the other solution (since $\\frac{4}{3}>1$, then $B$ will eventually dominate)."
   ]
  },
  {
   "cell_type": "markdown",
   "metadata": {},
   "source": [
    "## Question 2: Computational complexity of the mergesort algorithm\n",
    "\n",
    "Consider two arrays of integers, A and B, having lengths n and m respectively. Assuming that the elements of A and B are already sorted in ascending order. The following recursive function merges them to return an array of length n+m whose elements are sorted in ascending order:\n",
    "\n"
   ]
  },
  {
   "cell_type": "code",
   "execution_count": 1,
   "metadata": {},
   "outputs": [
    {
     "data": {
      "text/plain": [
       "mergepresorted (generic function with 1 method)"
      ]
     },
     "execution_count": 1,
     "metadata": {},
     "output_type": "execute_result"
    }
   ],
   "source": [
    "function mergepresorted(A::Array{Int64,1}, B::Array{Int64,1})\n",
    "    if length(A) == 0\n",
    "        return B\n",
    "    elseif length(B) == 0\n",
    "        return A\n",
    "    elseif A[1] < B[1]\n",
    "        return vcat([A[1]], mergepresorted(A[2:end], B))\n",
    "    else\n",
    "        return vcat([B[1]], mergepresorted(A, B[2:end]))\n",
    "    end    \n",
    "end"
   ]
  },
  {
   "cell_type": "markdown",
   "metadata": {},
   "source": [
    "The computational complexity of this function is $n+m$.\n",
    "\n",
    "1. Verify that the function mergepresorted(A, B) works as described.\n",
    "2. Write a recursive function that implements the mergesort algorithm for an array of integers whose length, $n$ is a power of 2: $n=2^m$. Verify that it works by generating some arrays of random integers and using your function to sort them.\n",
    "3. Explain why the computational complexity, $F(n)$, of your mergesort algorithm satisfies the recursion\n",
    "> $F(n) = 2\\, F(\\frac{n}{2}) + n\\ \\ \\ \\ $ with initial condition $F(1)=1$.  \n",
    "4. Introduce the new variable p defined by $n = 2^p$ and let $b_p = F(2^p)$. Show that in these variables the above equation takes the form\n",
    "> $b_p = 2 b_{p−1} + 2^p\\ \\ \\ \\ $ with initial condition $b_0 = 1$.\n",
    "5. Find the general solution to the associated homogeneous recursion relation (ie without the $2^p$ term).\n",
    "6. Find a particular solution of the original inhomogenous recursion relation and use the initial condition to determine the constant in the homogenous solution.\n",
    "7. Hence show that the computational complexity of the mergesort algorithm is\n",
    "> $F(n) = O(n\\, \\log n)$.\n",
    "8. Use Julia's @timed macro to measure the execution time of your mergesort function for arrays of lengths $\\{2^i : i =1 : 15\\}$. Compare the results to the theoretical expectations."
   ]
  },
  {
   "cell_type": "code",
   "execution_count": 12,
   "metadata": {},
   "outputs": [],
   "source": [
    "#part 1, verify that mergepresorted(a::Arrary{Int64,1}, b::Array{Int64,1}) works\n",
    "m = rand(1:100) #random length m\n",
    "n = rand(1:100) #random length n\n",
    "a = sort(rand(1:100, m)) #sorted vector length m\n",
    "b = sort(rand(1:100, n)) #sorted vector length n\n",
    "\n",
    "mergepresorted(a,b); #vector of length n+m"
   ]
  },
  {
   "cell_type": "markdown",
   "metadata": {},
   "source": [
    "Split the vector $A$ into two, then each vector of length $\\frac{n}{2}$ split into two, keep repeating until we do merge sort integers. \n",
    "\n",
    "1. v1 = mergepresorted($A_1, A_2$), computional complexity is $2F(\\frac{n}{2})$\n",
    "Then we \n",
    "2. v2 = mergepresorted($A_2, B_2$),  computional complexity is $\\frac{n}{2} + \\frac{m}{2}$\n",
    "3. final = mergepresorted($v1, v2$),  computional complexity is $\\frac{n}{2} + \\frac{m}{2}$\n"
   ]
  },
  {
   "cell_type": "code",
   "execution_count": 77,
   "metadata": {},
   "outputs": [
    {
     "name": "stderr",
     "output_type": "stream",
     "text": [
      "WARNING: Method definition sortarray(Array{Int64, 1}) in module Main at In[26]:2 overwritten at In[77]:2.\n"
     ]
    },
    {
     "data": {
      "text/plain": [
       "sortarray (generic function with 1 method)"
      ]
     },
     "execution_count": 77,
     "metadata": {},
     "output_type": "execute_result"
    }
   ],
   "source": [
    "function sortarray(A::Array{Int64,1})\n",
    "    if length(A) == 1\n",
    "        return A\n",
    "    else\n",
    "        Into_two = Int(length(A)/2)\n",
    "        a = sortarray(A[1:Into_two])\n",
    "        b = sortarray(A[(Into_two+1):end])\n",
    "        return mergepresorted(a,b)\n",
    "    end\n",
    "end"
   ]
  },
  {
   "cell_type": "code",
   "execution_count": 34,
   "metadata": {},
   "outputs": [
    {
     "name": "stdout",
     "output_type": "stream",
     "text": [
      "100"
     ]
    },
    {
     "ename": "LoadError",
     "evalue": "InexactError()",
     "output_type": "error",
     "traceback": [
      "InexactError()",
      "",
      " in sortarray(::Array{Int64,1}) at ./In[26]:7",
      " in sortarray(::Array{Int64,1}) at ./In[26]:8 (repeats 2 times)",
      " in include_string(::String, ::String) at ./loading.jl:441"
     ]
    }
   ],
   "source": [
    "#verify that sortarray works\n",
    "k = rand(1:100)\n",
    "if k%2 == 1\n",
    "    k = k+1\n",
    "    return k\n",
    "end\n",
    "print(k)\n",
    "y = rand(1:100, k)\n",
    "\n",
    "sortarray(y)"
   ]
  },
  {
   "cell_type": "code",
   "execution_count": 25,
   "metadata": {},
   "outputs": [
    {
     "data": {
      "text/plain": [
       "1"
      ]
     },
     "execution_count": 25,
     "metadata": {},
     "output_type": "execute_result"
    }
   ],
   "source": [
    "Int(1.0)"
   ]
  },
  {
   "cell_type": "code",
   "execution_count": null,
   "metadata": {},
   "outputs": [],
   "source": []
  }
 ],
 "metadata": {
  "anaconda-cloud": {},
  "kernelspec": {
   "display_name": "Julia 0.5.2",
   "language": "julia",
   "name": "julia-0.5"
  },
  "language_info": {
   "file_extension": ".jl",
   "mimetype": "application/julia",
   "name": "julia",
   "version": "0.5.2"
  }
 },
 "nbformat": 4,
 "nbformat_minor": 1
}
